{
 "cells": [
  {
   "cell_type": "code",
   "execution_count": 2,
   "metadata": {},
   "outputs": [
    {
     "name": "stdout",
     "output_type": "stream",
     "text": [
      "nombre de depart: 50 \n",
      "\n",
      "suite: [50, 25.0, 76.0, 38.0, 19.0, 58.0, 29.0, 88.0, 44.0, 22.0, 11.0, 34.0, 17.0, 52.0, 26.0, 13.0, 40.0, 20.0, 10.0, 5.0, 16.0, 8.0, 4.0, 2.0, 1.0] \n",
      "\n",
      "nombre de termes: 25 \n",
      "\n"
     ]
    }
   ],
   "source": [
    "num = 50\n",
    "print('nombre de depart:', num, '\\n')\n",
    "\n",
    "suite = [num]\n",
    "\n",
    "while num != 1:\n",
    "\n",
    "\tif num % 2 == 0:\n",
    "\t\tnum = num / 2\n",
    "\telse:\n",
    "\t\tnum = num * 3 + 1\n",
    "\n",
    "\tsuite.append(num)\n",
    "\n",
    "print ('suite:', suite, '\\n')\n",
    "print ('nombre de termes:', len(suite), '\\n')"
   ]
  }
 ],
 "metadata": {
  "kernelspec": {
   "display_name": "Python 3",
   "language": "python",
   "name": "python3"
  },
  "language_info": {
   "codemirror_mode": {
    "name": "ipython",
    "version": 3
   },
   "file_extension": ".py",
   "mimetype": "text/x-python",
   "name": "python",
   "nbconvert_exporter": "python",
   "pygments_lexer": "ipython3",
   "version": "3.7.0"
  }
 },
 "nbformat": 4,
 "nbformat_minor": 2
}
